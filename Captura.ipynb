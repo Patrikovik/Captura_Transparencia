{
 "cells": [
  {
   "cell_type": "code",
   "execution_count": 1,
   "metadata": {},
   "outputs": [],
   "source": [
    "from selenium import webdriver\n",
    "from selenium.webdriver.support.ui import Select\n",
    "from selenium.webdriver.common.by  import By\n",
    "from selenium.common.exceptions import NoSuchElementException\n",
    "import csv\n"
   ]
  },
  {
   "cell_type": "code",
   "execution_count": 2,
   "metadata": {},
   "outputs": [],
   "source": [
    "#CRIA AS FUNÇÕES DE NAVEGAÇÃO NO SITE\n",
    "def Catcher(way):\n",
    "    head_consulta_ele = driver.find_element_by_xpath(way)\n",
    "    return head_consulta_ele.text.split(\"\\n\")\n",
    "    \n",
    "def Mount_Xpath(texto):\n",
    "    text = \"//*[text()='%s']\" % texto\n",
    "    return text\n",
    "\n",
    "def Head(val):\n",
    "    ano = val[0].text.split(\"\\n\")\n",
    "    mes = val[1].text.split(\"\\n\")\n",
    "    return ano, mes\n",
    "\n",
    "def Clicker(Elemento):\n",
    "    Target = driver.find_element_by_xpath(Mount_Xpath(Elemento))\n",
    "    Target.click()\n"
   ]
  },
  {
   "cell_type": "code",
   "execution_count": 3,
   "metadata": {},
   "outputs": [],
   "source": [
    "#PREPARA O DRIVE PARA A COLETA DE PREÇOS\n",
    "#INSIRA O CAMINHO DO SEU WEBDRIVER NO LUHAR DE \"INSIRA AQUI O CAMINHO DO SEU WEBDRIVER\" -> \n",
    "#O SCRIPT FOI DESENVOLVIDO PARA GOOGLE CHROME, NÃO SEI SE FUNCIONA PARA DEMAIS NAVEGADORES\n",
    "\n",
    "driver = webdriver.Chrome(\"INSIRA AQUI O WEBDRIVER DO SEU BROWSWER\")\n",
    "site = \"http://www.ssp.sp.gov.br/transparenciassp/Consulta.aspx\"\n",
    "driver.get(site)\n",
    "driver.maximize_window()\n"
   ]
  },
  {
   "cell_type": "code",
   "execution_count": 4,
   "metadata": {},
   "outputs": [],
   "source": [
    "# CAPTURA TODOS OS TIPOS DE CRIMES. IMPLEMENTEI PARA FICAR MAIS FÁCIL QUALQUER EVOLUÇÃO DE SELEÇÃO.\n",
    "Typer = Catcher(\"//*[@id='frmMain']/div[3]/div[2]/div\")\n",
    "# SELECIONA \"FEMINICÍDIO\".\n",
    "Clicker(Typer[4])\n",
    "\n",
    "Eleheader = driver.find_elements_by_xpath(\"//*[@id='cphBody_divDados']/div/ul\")\n",
    "Cabeçalho = Head(Eleheader)#Retorna Mêses e Anos"
   ]
  },
  {
   "cell_type": "code",
   "execution_count": null,
   "metadata": {},
   "outputs": [],
   "source": [
    "# MECANISMO PARA REALIZAR TODOS OS DOWNLOADS\n",
    "\n",
    "for ele in Cabeçalho[0]:\n",
    "    Clicker(ele)\n",
    "    for ele2 in Cabeçalho[1]:\n",
    "       Clicker(ele2)\n",
    "       try:\n",
    "           driver.find_element_by_css_selector('#cphBody_grdListBO > tbody > tr.head').text\n",
    "           driver.find_element_by_css_selector('#cphBody_ExportarBOLink').click()\n",
    "           while driver.find_element_by_css_selector('#cphBody_divExport > p').text != '':\n",
    "               print(\"Aguardando Download\")\n",
    "       except:\n",
    "           print(\"Não há dados\")\n"
   ]
  }
 ],
 "metadata": {
  "kernelspec": {
   "display_name": "Python 3",
   "language": "python",
   "name": "python3"
  },
  "language_info": {
   "codemirror_mode": {
    "name": "ipython",
    "version": 3
   },
   "file_extension": ".py",
   "mimetype": "text/x-python",
   "name": "python",
   "nbconvert_exporter": "python",
   "pygments_lexer": "ipython3",
   "version": "3.7.1"
  }
 },
 "nbformat": 4,
 "nbformat_minor": 2
}
